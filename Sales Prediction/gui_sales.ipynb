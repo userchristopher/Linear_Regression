{
 "cells": [
  {
   "cell_type": "code",
   "execution_count": 1,
   "id": "6b357317",
   "metadata": {},
   "outputs": [],
   "source": [
    "import pickle\n",
    "from tkinter import *\n"
   ]
  },
  {
   "cell_type": "code",
   "execution_count": 2,
   "id": "e0b62d98",
   "metadata": {},
   "outputs": [],
   "source": [
    "#Loading the model\n",
    "MODEL_PATH = r\"C:\\Users\\CHRISTOPHER\\CHRIS_PY\\DS\\Linear Reagression\\linear-regression-example-a481049d377d2d3fa26cc314bed1603cd1527f5f\\Sale_predict_model\"\n",
    "loaded_model = pickle.load(open(MODEL_PATH, 'rb'))"
   ]
  },
  {
   "cell_type": "code",
   "execution_count": 3,
   "id": "d2f24381",
   "metadata": {},
   "outputs": [],
   "source": [
    "#calculating sales w.r.t input\n",
    "def calculate_sale(arg):\n",
    "    res = loaded_model.predict([[tv.get(),radio.get(),newspaper.get()]])\n",
    "    sale_label.config(text=\"Expected Sale : {:.2f}/-\".format(res[0][0]))"
   ]
  },
  {
   "cell_type": "code",
   "execution_count": 4,
   "id": "90a75d33",
   "metadata": {},
   "outputs": [
    {
     "data": {
      "text/plain": [
       "''"
      ]
     },
     "execution_count": 4,
     "metadata": {},
     "output_type": "execute_result"
    }
   ],
   "source": [
    "#Initializing the tkinter window\n",
    "master = Tk()\n",
    "master.geometry(\"1000x600\")\n",
    "master.configure(background='#C0C0C0')\n",
    "master.title('Sales Prediction')"
   ]
  },
  {
   "cell_type": "code",
   "execution_count": 5,
   "id": "92941b22",
   "metadata": {},
   "outputs": [],
   "source": [
    "#Label to show the estimated sale\n",
    "sale_label = Label(master, bg='#FFFF99', fg=\"black\", font=(\"Alierons\", 40, \"bold\"), text=\"Sales Pridiction\")\n",
    "sale_label.pack(padx=5, pady=20)"
   ]
  },
  {
   "cell_type": "code",
   "execution_count": 6,
   "id": "0307874b",
   "metadata": {},
   "outputs": [],
   "source": [
    "#Scale to take TV advertising investment ammount from user\n",
    "tv = Scale(master, length=650, label=\"TV\", bg='#FFFF99', fg=\"black\", from_=0, to=2000, orient=HORIZONTAL , command=calculate_sale)\n",
    "tv.set(10)\n",
    "tv.pack(padx=5, pady=5)"
   ]
  },
  {
   "cell_type": "code",
   "execution_count": 7,
   "id": "81ca69a2",
   "metadata": {},
   "outputs": [],
   "source": [
    "#Scale to take Radio advertising investment ammount from user\n",
    "radio = Scale(master, length=650, label=\"Radio\", bg='#FFFF99', fg=\"black\",from_=0, to=2000, orient=HORIZONTAL, command=calculate_sale)\n",
    "radio.set(10)\n",
    "radio.pack(padx=5, pady=5)"
   ]
  },
  {
   "cell_type": "code",
   "execution_count": 8,
   "id": "1661c96b",
   "metadata": {},
   "outputs": [],
   "source": [
    "#Scale to take Newspaper advertising investment ammount from user\n",
    "newspaper = Scale(master, length=650, label=\"Newspaper\", bg='#FFFF99', fg=\"black\", from_=0, to=2000, orient=HORIZONTAL, command=calculate_sale)\n",
    "newspaper.set(10)\n",
    "newspaper.pack(padx=5, pady=5)"
   ]
  },
  {
   "cell_type": "code",
   "execution_count": 9,
   "id": "ee6e2ad2",
   "metadata": {},
   "outputs": [
    {
     "ename": "KeyboardInterrupt",
     "evalue": "",
     "output_type": "error",
     "traceback": [
      "\u001b[1;31m---------------------------------------------------------------------------\u001b[0m",
      "\u001b[1;31mKeyboardInterrupt\u001b[0m                         Traceback (most recent call last)",
      "\u001b[1;32m<ipython-input-9-ace17151e1ef>\u001b[0m in \u001b[0;36m<module>\u001b[1;34m\u001b[0m\n\u001b[1;32m----> 1\u001b[1;33m \u001b[0mmainloop\u001b[0m\u001b[1;33m(\u001b[0m\u001b[1;33m)\u001b[0m\u001b[1;33m\u001b[0m\u001b[1;33m\u001b[0m\u001b[0m\n\u001b[0m",
      "\u001b[1;32mc:\\python38\\lib\\tkinter\\__init__.py\u001b[0m in \u001b[0;36mmainloop\u001b[1;34m(n)\u001b[0m\n\u001b[0;32m    591\u001b[0m \u001b[1;32mdef\u001b[0m \u001b[0mmainloop\u001b[0m\u001b[1;33m(\u001b[0m\u001b[0mn\u001b[0m\u001b[1;33m=\u001b[0m\u001b[1;36m0\u001b[0m\u001b[1;33m)\u001b[0m\u001b[1;33m:\u001b[0m\u001b[1;33m\u001b[0m\u001b[1;33m\u001b[0m\u001b[0m\n\u001b[0;32m    592\u001b[0m     \u001b[1;34m\"\"\"Run the main loop of Tcl.\"\"\"\u001b[0m\u001b[1;33m\u001b[0m\u001b[1;33m\u001b[0m\u001b[0m\n\u001b[1;32m--> 593\u001b[1;33m     \u001b[0m_default_root\u001b[0m\u001b[1;33m.\u001b[0m\u001b[0mtk\u001b[0m\u001b[1;33m.\u001b[0m\u001b[0mmainloop\u001b[0m\u001b[1;33m(\u001b[0m\u001b[0mn\u001b[0m\u001b[1;33m)\u001b[0m\u001b[1;33m\u001b[0m\u001b[1;33m\u001b[0m\u001b[0m\n\u001b[0m\u001b[0;32m    594\u001b[0m \u001b[1;33m\u001b[0m\u001b[0m\n\u001b[0;32m    595\u001b[0m \u001b[1;33m\u001b[0m\u001b[0m\n",
      "\u001b[1;31mKeyboardInterrupt\u001b[0m: "
     ]
    }
   ],
   "source": [
    "mainloop()"
   ]
  },
  {
   "cell_type": "code",
   "execution_count": null,
   "id": "88730104",
   "metadata": {},
   "outputs": [],
   "source": []
  }
 ],
 "metadata": {
  "kernelspec": {
   "display_name": "Python 3",
   "language": "python",
   "name": "python3"
  },
  "language_info": {
   "codemirror_mode": {
    "name": "ipython",
    "version": 3
   },
   "file_extension": ".py",
   "mimetype": "text/x-python",
   "name": "python",
   "nbconvert_exporter": "python",
   "pygments_lexer": "ipython3",
   "version": "3.8.2"
  }
 },
 "nbformat": 4,
 "nbformat_minor": 5
}
