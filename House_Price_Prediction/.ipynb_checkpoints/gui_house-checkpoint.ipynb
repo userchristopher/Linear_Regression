{
 "cells": [
  {
   "cell_type": "code",
   "execution_count": 1,
   "id": "b31af61f",
   "metadata": {},
   "outputs": [],
   "source": [
    "import pickle\n",
    "from tkinter import *\n"
   ]
  },
  {
   "cell_type": "code",
   "execution_count": 2,
   "id": "51948f7b",
   "metadata": {},
   "outputs": [],
   "source": [
    "#Loading the model\n",
    "MODEL_PATH = r\"C:\\Users\\CHRISTOPHER\\CHRIS_PY\\DS\\Linear Reagression\\linear-regression-example-a481049d377d2d3fa26cc314bed1603cd1527f5f\\House_price_predict_model\"\n",
    "loaded_model = pickle.load(open(MODEL_PATH, 'rb'))"
   ]
  },
  {
   "cell_type": "code",
   "execution_count": 3,
   "id": "508d53b1",
   "metadata": {},
   "outputs": [],
   "source": [
    "#calculating sales w.r.t input\n",
    "def calculate_sale(arg):\n",
    "    res = loaded_model.predict([[Area_Income.get(),House_Age.get(),No_Rooms.get(),No_BedRooms.get(),Area_Population.get()]])\n",
    "    res = int(res)\n",
    "    #sale_label.config(text=\"Expected Price of House : {:.2f}/-\".format(res[0][0]))\n",
    "    sale_label.config(text=\"Expected Price of House : {:.0f}\".format(res))"
   ]
  },
  {
   "cell_type": "code",
   "execution_count": null,
   "id": "423a28c2",
   "metadata": {},
   "outputs": [],
   "source": []
  },
  {
   "cell_type": "code",
   "execution_count": 4,
   "id": "4378681c",
   "metadata": {},
   "outputs": [
    {
     "data": {
      "text/plain": [
       "''"
      ]
     },
     "execution_count": 4,
     "metadata": {},
     "output_type": "execute_result"
    }
   ],
   "source": [
    "#Initializing the tkinter window\n",
    "master = Tk()\n",
    "master.geometry(\"1000x600\")\n",
    "master.configure(background='#e5e5e5')\n",
    "master.title('House Price Prediction')"
   ]
  },
  {
   "cell_type": "code",
   "execution_count": 5,
   "id": "acdf9989",
   "metadata": {},
   "outputs": [],
   "source": [
    "sale_label = Label(master, bg='#fca311', fg=\"black\", font=(\"Alierons\", 40, \"bold\"), text=\"House Price Pridiction\")\n",
    "sale_label.pack(padx=5, pady=20)"
   ]
  },
  {
   "cell_type": "code",
   "execution_count": 6,
   "id": "58c692cc",
   "metadata": {},
   "outputs": [],
   "source": [
    "Area_Income = Scale(master, length=650, label=\"Average Income of Area\", bg='#14213d', fg=\"white\", from_=0, to=2000, orient=HORIZONTAL , command=calculate_sale)\n",
    "Area_Income.set(10)\n",
    "Area_Income.pack(padx=5, pady=5)"
   ]
  },
  {
   "cell_type": "code",
   "execution_count": 7,
   "id": "529f6987",
   "metadata": {},
   "outputs": [],
   "source": [
    "House_Age = Scale(master, length=650, label=\"Age of House\", bg='#14213d', fg=\"white\", from_=0, to=2000, orient=HORIZONTAL , command=calculate_sale)\n",
    "House_Age.set(10)\n",
    "House_Age.pack(padx=5, pady=5)"
   ]
  },
  {
   "cell_type": "code",
   "execution_count": 8,
   "id": "723ea6a3",
   "metadata": {},
   "outputs": [],
   "source": [
    "No_Rooms = Scale(master, length=650, label=\"No of Rooms\", bg='#14213d', fg=\"white\", from_=0, to=2000, orient=HORIZONTAL , command=calculate_sale)\n",
    "No_Rooms.set(10)\n",
    "No_Rooms.pack(padx=5, pady=5)"
   ]
  },
  {
   "cell_type": "code",
   "execution_count": 9,
   "id": "db935f75",
   "metadata": {},
   "outputs": [],
   "source": [
    "No_BedRooms = Scale(master, length=650, label=\"No of BedRooms\", bg='#14213d', fg=\"white\", from_=0, to=2000, orient=HORIZONTAL , command=calculate_sale)\n",
    "No_BedRooms.set(10)\n",
    "No_BedRooms.pack(padx=5, pady=5)"
   ]
  },
  {
   "cell_type": "code",
   "execution_count": 10,
   "id": "6ca4e5f4",
   "metadata": {},
   "outputs": [],
   "source": [
    "Area_Population = Scale(master, length=650, label=\"Area Population\", bg='#14213d', fg=\"white\", from_=0, to=2000, orient=HORIZONTAL , command=calculate_sale)\n",
    "Area_Population.set(10)\n",
    "Area_Population.pack(padx=5, pady=5)"
   ]
  },
  {
   "cell_type": "code",
   "execution_count": 11,
   "id": "1fef0cbc",
   "metadata": {},
   "outputs": [
    {
     "ename": "KeyboardInterrupt",
     "evalue": "",
     "output_type": "error",
     "traceback": [
      "\u001b[1;31m---------------------------------------------------------------------------\u001b[0m",
      "\u001b[1;31mKeyboardInterrupt\u001b[0m                         Traceback (most recent call last)",
      "\u001b[1;32m<ipython-input-11-ace17151e1ef>\u001b[0m in \u001b[0;36m<module>\u001b[1;34m\u001b[0m\n\u001b[1;32m----> 1\u001b[1;33m \u001b[0mmainloop\u001b[0m\u001b[1;33m(\u001b[0m\u001b[1;33m)\u001b[0m\u001b[1;33m\u001b[0m\u001b[1;33m\u001b[0m\u001b[0m\n\u001b[0m",
      "\u001b[1;32mc:\\python38\\lib\\tkinter\\__init__.py\u001b[0m in \u001b[0;36mmainloop\u001b[1;34m(n)\u001b[0m\n\u001b[0;32m    591\u001b[0m \u001b[1;32mdef\u001b[0m \u001b[0mmainloop\u001b[0m\u001b[1;33m(\u001b[0m\u001b[0mn\u001b[0m\u001b[1;33m=\u001b[0m\u001b[1;36m0\u001b[0m\u001b[1;33m)\u001b[0m\u001b[1;33m:\u001b[0m\u001b[1;33m\u001b[0m\u001b[1;33m\u001b[0m\u001b[0m\n\u001b[0;32m    592\u001b[0m     \u001b[1;34m\"\"\"Run the main loop of Tcl.\"\"\"\u001b[0m\u001b[1;33m\u001b[0m\u001b[1;33m\u001b[0m\u001b[0m\n\u001b[1;32m--> 593\u001b[1;33m     \u001b[0m_default_root\u001b[0m\u001b[1;33m.\u001b[0m\u001b[0mtk\u001b[0m\u001b[1;33m.\u001b[0m\u001b[0mmainloop\u001b[0m\u001b[1;33m(\u001b[0m\u001b[0mn\u001b[0m\u001b[1;33m)\u001b[0m\u001b[1;33m\u001b[0m\u001b[1;33m\u001b[0m\u001b[0m\n\u001b[0m\u001b[0;32m    594\u001b[0m \u001b[1;33m\u001b[0m\u001b[0m\n\u001b[0;32m    595\u001b[0m \u001b[1;33m\u001b[0m\u001b[0m\n",
      "\u001b[1;31mKeyboardInterrupt\u001b[0m: "
     ]
    }
   ],
   "source": [
    "mainloop()"
   ]
  },
  {
   "cell_type": "markdown",
   "id": "449ec78e",
   "metadata": {},
   "source": []
  },
  {
   "cell_type": "code",
   "execution_count": null,
   "id": "93c8e67d",
   "metadata": {},
   "outputs": [],
   "source": []
  },
  {
   "cell_type": "code",
   "execution_count": null,
   "id": "6095e2f7",
   "metadata": {},
   "outputs": [],
   "source": []
  },
  {
   "cell_type": "code",
   "execution_count": null,
   "id": "40227fd6",
   "metadata": {},
   "outputs": [],
   "source": []
  }
 ],
 "metadata": {
  "kernelspec": {
   "display_name": "Python 3",
   "language": "python",
   "name": "python3"
  },
  "language_info": {
   "codemirror_mode": {
    "name": "ipython",
    "version": 3
   },
   "file_extension": ".py",
   "mimetype": "text/x-python",
   "name": "python",
   "nbconvert_exporter": "python",
   "pygments_lexer": "ipython3",
   "version": "3.8.2"
  }
 },
 "nbformat": 4,
 "nbformat_minor": 5
}
